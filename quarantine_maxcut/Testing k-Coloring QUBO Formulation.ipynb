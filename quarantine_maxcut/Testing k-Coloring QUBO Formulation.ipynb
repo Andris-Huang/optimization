{
 "cells": [
  {
   "cell_type": "markdown",
   "metadata": {},
   "source": [
    "Goal: Function that generates a qubo for k-coloring on arbitrary graph G:\n",
    "Source: https://arxiv.org/ftp/arxiv/papers/1811/1811.11538.pdf"
   ]
  },
  {
   "cell_type": "code",
   "execution_count": 68,
   "metadata": {},
   "outputs": [],
   "source": [
    "from collections import defaultdict\n",
    "from itertools import combinations \n",
    "import numpy as np\n",
    "from matplotlib import pyplot as plt\n",
    "import networkx as nx\n",
    "from dwave.system import LeapHybridSampler\n",
    "import random\n",
    "from networkx.generators.random_graphs import connected_watts_strogatz_graph as small_world "
   ]
  },
  {
   "cell_type": "code",
   "execution_count": 30,
   "metadata": {},
   "outputs": [],
   "source": [
    "def k_color_qubo(G, k, P=4):\n",
    "    \"\"\"\n",
    "    Generate a QUBO instance Q representing k-coloring on G with penalty factor P\n",
    "    QUBO generated in upper triangular form - equivalent to symmetric form (see link above pg4)\n",
    "    \"\"\"\n",
    "    num_nodes = G.number_of_nodes()\n",
    "    Q = defaultdict(int)\n",
    "    \n",
    "    # each node has 1 color constraints\n",
    "    for node in range(num_nodes):\n",
    "        for color in range(k):\n",
    "            x = k * node + color\n",
    "            Q[(x,x)] += - P\n",
    "        for color1, color2 in combinations(range(k), 2):\n",
    "            x1 = k * node + color1\n",
    "            x2 = k * node + color2\n",
    "            Q[(x1,x2)] += 2 * P  \n",
    "    \n",
    "    # adjacent nodes have diffent colors constraints\n",
    "    for u, v in G.edges:\n",
    "        for color in range(k):\n",
    "            x1 = k * u + color\n",
    "            x2 = k * v + color\n",
    "            Q[(x1,x2)] += P\n",
    "    \n",
    "    \n",
    "    return Q\n",
    "    "
   ]
  },
  {
   "cell_type": "code",
   "execution_count": 33,
   "metadata": {},
   "outputs": [
    {
     "data": {
      "image/png": "[encoded data removed]",
      "text/plain": [
       "<Figure size 432x288 with 1 Axes>"
      ]
     },
     "metadata": {},
     "output_type": "display_data"
    }
   ],
   "source": [
    "# from page 22 of https://arxiv.org/ftp/arxiv/papers/1811/1811.11538.pdf\n",
    "# Here we 0-index instead of 1-indexing in the paper\n",
    "test_graph = nx.empty_graph()\n",
    "test_graph.add_nodes_from([0,1,2,3,4])\n",
    "test_graph.add_edges_from([(0,1),(0,4),(1,2),(1,3),(1,4),(2,3),(3,4) ])\n",
    "nx.draw_networkx(test_graph, node_labels = 300, alpha = .6)"
   ]
  },
  {
   "cell_type": "code",
   "execution_count": 37,
   "metadata": {},
   "outputs": [
    {
     "data": {
      "text/plain": [
       "defaultdict(int,\n",
       "            {(0, 0): -4,\n",
       "             (1, 1): -4,\n",
       "             (2, 2): -4,\n",
       "             (0, 1): 8,\n",
       "             (0, 2): 8,\n",
       "             (1, 2): 8,\n",
       "             (3, 3): -4,\n",
       "             (4, 4): -4,\n",
       "             (5, 5): -4,\n",
       "             (3, 4): 8,\n",
       "             (3, 5): 8,\n",
       "             (4, 5): 8,\n",
       "             (6, 6): -4,\n",
       "             (7, 7): -4,\n",
       "             (8, 8): -4,\n",
       "             (6, 7): 8,\n",
       "             (6, 8): 8,\n",
       "             (7, 8): 8,\n",
       "             (9, 9): -4,\n",
       "             (10, 10): -4,\n",
       "             (11, 11): -4,\n",
       "             (9, 10): 8,\n",
       "             (9, 11): 8,\n",
       "             (10, 11): 8,\n",
       "             (12, 12): -4,\n",
       "             (13, 13): -4,\n",
       "             (14, 14): -4,\n",
       "             (12, 13): 8,\n",
       "             (12, 14): 8,\n",
       "             (13, 14): 8,\n",
       "             (0, 3): 4,\n",
       "             (1, 4): 4,\n",
       "             (2, 5): 4,\n",
       "             (0, 12): 4,\n",
       "             (1, 13): 4,\n",
       "             (2, 14): 4,\n",
       "             (3, 6): 4,\n",
       "             (4, 7): 4,\n",
       "             (5, 8): 4,\n",
       "             (3, 9): 4,\n",
       "             (4, 10): 4,\n",
       "             (5, 11): 4,\n",
       "             (3, 12): 4,\n",
       "             (4, 13): 4,\n",
       "             (5, 14): 4,\n",
       "             (6, 9): 4,\n",
       "             (7, 10): 4,\n",
       "             (8, 11): 4,\n",
       "             (9, 12): 4,\n",
       "             (10, 13): 4,\n",
       "             (11, 14): 4})"
      ]
     },
     "execution_count": 37,
     "metadata": {},
     "output_type": "execute_result"
    }
   ],
   "source": [
    "test_3_color_qubo = k_color_qubo(test_graph,3)\n",
    "test_3_color_qubo # looks like the paper!"
   ]
  },
  {
   "cell_type": "code",
   "execution_count": 35,
   "metadata": {},
   "outputs": [],
   "source": [
    "def solve(Q, chainstrength=8, numruns=100):\n",
    "    \"\"\"\n",
    "    Solve a QUBO Q on a D-Wave hybrid machine \n",
    "    \"\"\"\n",
    "    sampler = LeapHybridSampler()\n",
    "    response = sampler.sample_qubo(Q, chain_strength=chainstrength, num_reads=numruns)\n",
    "    energies = iter(response.data())\n",
    "    return response.first"
   ]
  },
  {
   "cell_type": "code",
   "execution_count": 60,
   "metadata": {},
   "outputs": [],
   "source": [
    "def convert_sample_to_subgraphs(G, sample, k):\n",
    "    values = list(sample.sample.values())\n",
    "    nodes_grouped_by_color = [[] for _ in range(k)]\n",
    "    for node in range(G.number_of_nodes()):\n",
    "        for color, group in zip(range(k), nodes_grouped_by_color):\n",
    "            x = k * node + color\n",
    "            if values[x] > .5: # true if and only if x=1 but x is sometimes outputed as float 1.0\n",
    "                group.append(node)\n",
    "    subgraphs_grouped_by_color = [nx.Graph.subgraph(G, nodes) for nodes in nodes_grouped_by_color]\n",
    "    return subgraphs_grouped_by_color"
   ]
  },
  {
   "cell_type": "code",
   "execution_count": 65,
   "metadata": {},
   "outputs": [],
   "source": [
    "def plot_colorized_groups(G, groups):\n",
    "    \"\"\"\n",
    "    Visualize binary split by assigning a random color to each quarantine group in G\n",
    "    \"\"\"\n",
    "    def n_random_colors(n):\n",
    "        colors = []\n",
    "        for i in range(n):\n",
    "            colors.append('#%06X' % random.randint(0, 0xFFFFFF))\n",
    "        return colors\n",
    "\n",
    "    node_colors = [None for i in G.nodes]\n",
    "    palette = n_random_colors(len(groups))\n",
    "    for graph, color in zip(groups, palette):\n",
    "        for node in graph.nodes:\n",
    "            node_colors[node] = color\n",
    "\n",
    "    pos = nx.spring_layout(G)\n",
    "    fig = plt.figure(figsize=(6,6))\n",
    "    default_axes = fig.add_subplot(frameon=True)\n",
    "    nx.draw_networkx(G, node_size=400, alpha=1, node_color=node_colors)\n",
    "    default_axes.set_title(\"\")\n",
    "    plt.show()"
   ]
  },
  {
   "cell_type": "code",
   "execution_count": 39,
   "metadata": {},
   "outputs": [],
   "source": [
    "test_3_coloring = solve(test_3_color_qubo)"
   ]
  },
  {
   "cell_type": "code",
   "execution_count": 46,
   "metadata": {},
   "outputs": [
    {
     "name": "stdout",
     "output_type": "stream",
     "text": [
      "<generator object <genexpr> at 0x000001629D7CDF90>\n"
     ]
    }
   ],
   "source": [
    "test_3_coloring\n",
    "print(i for i in (test_3_coloring.sample.values()))"
   ]
  },
  {
   "cell_type": "code",
   "execution_count": 63,
   "metadata": {},
   "outputs": [],
   "source": [
    "test_3_grouped = convert_sample_to_subgraphs(test_graph, test_3_coloring, 3 )"
   ]
  },
  {
   "cell_type": "code",
   "execution_count": 67,
   "metadata": {},
   "outputs": [
    {
     "data": {
      "image/png": "[encoded data removed]",
      "text/plain": [
       "<Figure size 432x432 with 1 Axes>"
      ]
     },
     "metadata": {},
     "output_type": "display_data"
    }
   ],
   "source": [
    "plot_colorized_groups(test_graph, test_3_grouped)"
   ]
  },
  {
   "cell_type": "markdown",
   "metadata": {},
   "source": [
    "success!"
   ]
  },
  {
   "cell_type": "markdown",
   "metadata": {},
   "source": [
    "Now lets scale up rather quickly to our full 3.8k node small network graph and see if it works to split into 4 colors on a hybrid solver"
   ]
  },
  {
   "cell_type": "code",
   "execution_count": 73,
   "metadata": {},
   "outputs": [],
   "source": [
    "#cornell_approx = small_world(3800, 152, .15) # parameters explained in \"Testing Networkx Graph Generators\"\n",
    "#cornell_approx_qubo = k_color_qubo(cornell_approx, 4)\n",
    "#cornell_approx_solution = solve(cornell_approx_qubo)\n",
    "\n",
    "small_cornell_approx = small_world(1600, 64, .15) # parameters explained in \"Testing Networx Graph Generators\"\n",
    "small_cornell_approx_qubo = k_color_qubo(small_cornell_approx, 4)\n",
    "small_cornell_approx_solution = solve(small_cornell_approx_qubo)"
   ]
  },
  {
   "cell_type": "code",
   "execution_count": null,
   "metadata": {},
   "outputs": [],
   "source": []
  }
 ],
 "metadata": {
  "kernelspec": {
   "display_name": "dwaveCorona",
   "language": "python",
   "name": "other-env"
  },
  "language_info": {
   "codemirror_mode": {
    "name": "ipython",
    "version": 3
   },
   "file_extension": ".py",
   "mimetype": "text/x-python",
   "name": "python",
   "nbconvert_exporter": "python",
   "pygments_lexer": "ipython3",
   "version": "3.8.2"
  }
 },
 "nbformat": 4,
 "nbformat_minor": 4
}
