{
 "cells": [
  {
   "cell_type": "code",
   "execution_count": 17,
   "metadata": {},
   "outputs": [
    {
     "name": "stdout",
     "output_type": "stream",
     "text": [
      "no display found. Using non-interactive Agg backend\n"
     ]
    }
   ],
   "source": [
    "from collections import defaultdict\n",
    "import numpy as np\n",
    "from itertools import combinations\n",
    "from dwave.system.samplers import DWaveSampler\n",
    "from dwave.system.composites import EmbeddingComposite\n",
    "from matplotlib import pyplot as plt\n",
    "import networkx as nx\n",
    "import networkx.generators.community as community\n",
    "from networkx.generators.random_graphs import connected_watts_strogatz_graph as small_world\n",
    "from networkx.generators.random_graphs import powerlaw_cluster_graph as cluster\n",
    "import ndlib\n",
    "import ndlib.models.epidemics as ep\n",
    "import ndlib.models.ModelConfig as mc\n",
    "from ndlib.viz.mpl.DiffusionPrevalence import DiffusionPrevalence\n",
    "from ndlib.viz.mpl.DiffusionTrend import DiffusionTrend\n",
    "from ndlib.utils import multi_runs\n",
    "from bokeh.palettes import Category20_9 as cols\n",
    "import future.utils\n",
    "import warnings\n",
    "import time\n",
    "from random import randint\n",
    "from random import sample\n",
    "warnings.simplefilter('ignore')\n",
    "%matplotlib inline"
   ]
  },
  {
   "cell_type": "markdown",
   "metadata": {},
   "source": [
    "### Max-Cut on D-Wave machines functions"
   ]
  },
  {
   "cell_type": "code",
   "execution_count": 8,
   "metadata": {},
   "outputs": [],
   "source": [
    "def maxcut_qubo(G):\n",
    "    \"\"\"\n",
    "    Generate a QUBO instance Q representing Max-Cut on G\n",
    "    \"\"\"\n",
    "    Q = defaultdict(int)\n",
    "    for u, v in G.edges:\n",
    "        Q[(u,u)]+= -1\n",
    "        Q[(v,v)]+= -1\n",
    "        Q[(u,v)]+= 2\n",
    "    return Q\n",
    "\n",
    "def solve(Q, chainstrength=8, numruns=100):\n",
    "    \"\"\"\n",
    "    Solve a QUBO Q on a D-Wave machine \n",
    "    \"\"\"\n",
    "    sampler = EmbeddingComposite(DWaveSampler(solver={'qpu': True}))\n",
    "    response = sampler.sample_qubo(Q, chain_strength=chainstrength, num_reads=numruns)\n",
    "    energies = iter(response.data())\n",
    "    return response.first\n",
    "\n",
    "def binary_split(G, limit = 4, pos=None, infected_nodes=[], graph=False, print_progress=False, weighted=False):\n",
    "    \"\"\" \n",
    "    Recursively call Max-Cut on graph G, splitting into groups until the size of each group reaches limit.\n",
    "    infected_nodes, graph, pos, and print_progress allow for visualizing process\n",
    "    weighted allows for weighted Max-Cut\n",
    "    \"\"\"\n",
    "    \n",
    "    if pos == None:\n",
    "        pos = nx.spring_layout(G)\n",
    "\n",
    "    if len(G.nodes) <= limit or len(G.edges) == 0: #recursion base case and if no edges D-Wave will error\n",
    "        return [G]\n",
    "    else: # split into two groups       \n",
    "        if weighted == False:\n",
    "            Q = maxcut_qubo(G)\n",
    "        else:\n",
    "            Q = weighted_maxcut_qubo(G)\n",
    "        sol = solve(Q)\n",
    "        \n",
    "    labels = sol.sample\n",
    "    for node in G.nodes: # D-Wave doesn't assign labels to isolated vertices so assign to 0\n",
    "        if node not in labels:\n",
    "            labels[node] = 0\n",
    "    \n",
    "    # assign all nodes labeled 0 to 'left' and all else to 'right.' Color left red, right blue, and infected green\n",
    "    colors = ['g' if i in infected_nodes else ('r' if labels[i] == 0 else 'b') for i in G.nodes]\n",
    "    left = [i for i in G.nodes if labels[i] == 0] \n",
    "    right = [i for i in G.nodes if labels[i] == 1]\n",
    "    \n",
    "    # graphing and reporting progress\n",
    "    if graph:\n",
    "        fig = plt.figure(constrained_layout=False)\n",
    "        gs = fig.add_gridspec(nrows=2, ncols=3)\n",
    "        gs.update(wspace=0, hspace=0)\n",
    "        ax1 = fig.add_subplot(gs[:,:2])   \n",
    "        ax1.set_xticklabels([])\n",
    "        ax1.set_yticklabels([])\n",
    "        ax2 = fig.add_subplot(gs[0,2])  \n",
    "        ax2.set_xticklabels([])\n",
    "        ax2.set_yticklabels([])\n",
    "        ax3 = fig.add_subplot(gs[1,2]) \n",
    "        ax3.set_xticklabels([])\n",
    "        ax3.set_yticklabels([])    \n",
    "    left_G = G.subgraph(left)\n",
    "    right_G = G.subgraph(right)\n",
    "    left_colors = ['g' if i in infected_nodes else 'r'  for i in left_G.nodes]\n",
    "    right_colors = ['g' if i in infected_nodes else 'b' for i in right_G.nodes]\n",
    "    if print_progress == True:\n",
    "        print(\"Dividing {} people into {} & {}\".format(len(G.nodes), len(left_G.nodes), len(right_G.nodes)))    \n",
    "    if graph:\n",
    "        nx.draw_networkx(G, node_size=300, alpha=.8, ax=ax1, pos=pos, node_color=colors)\n",
    "        nx.draw_networkx(left_G, node_size=300, alpha=.8, ax=ax2, pos=pos, node_color=left_colors)\n",
    "        nx.draw_networkx(right_G, node_size=300, alpha=.8, ax=ax3, pos=pos, node_color=right_colors)\n",
    "    \n",
    "    #recursively call Max-Cut on left and right groups\n",
    "    group = []\n",
    "    group.extend(binary_split(left_G, pos=pos, infected_nodes=infected_nodes, limit=limit, graph=graph))    \n",
    "    group.extend(binary_split(right_G, pos=pos, infected_nodes=infected_nodes, limit=limit, graph=graph))     \n",
    "    \n",
    "    return group"
   ]
  },
  {
   "cell_type": "code",
   "execution_count": 15,
   "metadata": {},
   "outputs": [],
   "source": [
    "def sim_virus(G, r_infect=0.001, r_recover=0.01, infected_nodes = [], iteration=500):\n",
    "    \"\"\"\n",
    "    Simulates virus spread on entire graph G with initial infected nodes and disease properties\n",
    "    iteration: number of steps of virus spread\n",
    "    returns: model, trends: dictionary indexed by number of susceptible (0), infected (1) and removed (2) nodes\n",
    "    iterations: dictionary indexed by iteration, containing the state of every node at that iteration\n",
    "    https://ndlib.readthedocs.io/en/latest/reference/models/epidemics/SIR.html\n",
    "    \"\"\"\n",
    "    model = ep.SIRModel(G)\n",
    "    cfg = mc.Configuration()\n",
    "    cfg.add_model_parameter('beta', r_infect) # infection rate\n",
    "    cfg.add_model_parameter('gamma', r_recover) # recovery rate\n",
    "    cfg.add_model_initial_configuration(\"Infected\", infected_nodes)\n",
    "    model.set_initial_status(cfg)\n",
    "    iterations = model.iteration_bunch(iteration, node_status=False)\n",
    "    trends = model.build_trends(iterations)     \n",
    "    return model, trends, iterations "
   ]
  },
  {
   "cell_type": "code",
   "execution_count": 39,
   "metadata": {},
   "outputs": [],
   "source": [
    "def plot(viz, ax, title):\n",
    "    \"\"\"\n",
    "    Plot the spread of disease over time \n",
    "    viz: Data returned by virus simulations\n",
    "    ax: axis to plot on\n",
    "    group_status: title of plot\n",
    "    \"\"\"\n",
    "    pres = viz.iteration_series(90)\n",
    "    mx = 0\n",
    "    i = 0\n",
    "    for k, l in future.utils.iteritems(pres):\n",
    "        mx = len(l[0])\n",
    "        if viz.normalized:\n",
    "            ax.plot(range(0, mx), l[1]/viz.nnodes, lw=2, label=viz.srev[k], alpha=0.5, color=cols[i])\n",
    "            ax.fill_between(range(0,  mx), l[0]/viz.nnodes, l[2]/viz.nnodes, alpha=0.2, # had to change alpha to a float\n",
    "                             color=cols[i])\n",
    "        else:\n",
    "            ax.plot(range(0, mx), l[1], lw=2, label=viz.srev[k], alpha=0.5, color=cols[i])\n",
    "            ax.fill_between(range(0, mx), l[0], l[2], alpha=0.2, # had to change alpha to a float\n",
    "                             color=cols[i])\n",
    "        i += 1\n",
    "    ax.grid(axis=\"y\")\n",
    "    ax.set_title(title)\n",
    "    ax.set_xlabel(\"Iterations\", fontsize=24)\n",
    "    ax.set_ylabel(viz.ylabel, fontsize=24)\n",
    "    ax.legend(loc=\"best\", fontsize=18)\n",
    "    ax.set_xlim((0, mx))\n",
    "\n",
    "def plot_virus_spread(G, infected, r_infect=0.001, r_recover=0.01, iterations = 1000, weighted = False):    \n",
    "    \"\"\"\n",
    "    Plot side by side comparisons of disease spread in the quarantined and un-quarantined cases for groups of size\n",
    "    given by group_sizes\n",
    "    \"\"\"\n",
    "    original_model, original_trends, _ = sim_virus(G, infected_nodes = infected, iteration = iterations, \n",
    "                                                   r_infect = r_infect, r_recover=r_recover)\n",
    "    original_viz = DiffusionTrend(original_model, original_trends)\n",
    "    fig, ax = plt.subplots(nrows=1, ncols=2, figsize=(12,6))\n",
    "    viz = DiffusionTrend(original_model, original_trends)\n",
    "    plot(original_viz, ax[0], 'No Quarantine')"
   ]
  },
  {
   "cell_type": "code",
   "execution_count": 52,
   "metadata": {},
   "outputs": [],
   "source": [
    "def random_avg_distance(G, samples):\n",
    "    distance_sum = 0\n",
    "    for i in range(samples):\n",
    "        pair = sample(list(G.nodes()), 2)\n",
    "        #print(pair)\n",
    "        distance = len(nx.shortest_path(G, pair[0], pair[1]))\n",
    "        #print(distance)\n",
    "        distance_sum += distance\n",
    "    return distance_sum/samples\n",
    "\n",
    "def random_avg_clustering_coeff(G, samples):\n",
    "    sampled_nodes = sample(list(G.nodes()), samples)\n",
    "    clustering_dict = nx.clustering(G, sampled_nodes)\n",
    "    return np.mean(np.array(list(clustering_dict.values())))\n",
    "\n",
    "def avg_degree(G):\n",
    "    return 2 * G.number_of_edges() / G.number_of_nodes()"
   ]
  },
  {
   "cell_type": "code",
   "execution_count": 83,
   "metadata": {},
   "outputs": [
    {
     "name": "stdout",
     "output_type": "stream",
     "text": [
      "clustering coef:  0.4747658451821898\n",
      "density:  0.05002501250625312\n",
      "degree:  100.0\n"
     ]
    }
   ],
   "source": [
    "toy_small_world = small_world(2000, 100, .15)\n",
    "initial_infected_nodes = np.random.choice(range(38), int(10), replace=False)\n",
    "print('clustering coef: ', random_avg_clustering_coeff(toy_small_world, 20))\n",
    "print('density: ', nx.density(toy_small_world))\n",
    "print('degree: ', avg_degree(toy_small_world))"
   ]
  },
  {
   "cell_type": "markdown",
   "metadata": {},
   "source": [
    "We must specify an infection and recovery rate for covid-19, we try do that here: \n",
    "\n",
    "For COVID 19 Some stats are: Basic reproductive number around 2.5: https://wwwnc.cdc.gov/eid/article/26/7/20-0282_article\n",
    "\n",
    "This means the number of susceptible people expected to get infected by 1 infected covid patient is 2.5\n",
    "\n",
    "Patients are infected for 2-14 days https://www.worldometers.info/coronavirus/coronavirus-incubation-period/\n",
    "\n",
    "Lets say infections last 10 days. Then over 10 days, 2.5 people in contact with them get infected, so .25 nodes should be infected per day. If the average degree is d, then r_infect should be .25/d.\n",
    "\n",
    "Then if it takes 10 days to be removed - either by recovery or death, we expect r_recover to be a probability that yields a geometric distribution with a mean of 10. Expected value is 1/p for geom distribution so p = 1/10 = .1, we previously used .01. So we increase both rates, lets see what happens.\n"
   ]
  },
  {
   "cell_type": "markdown",
   "metadata": {},
   "source": [
    "So this seems to have the desired statistics for the networks we are modelling"
   ]
  },
  {
   "cell_type": "code",
   "execution_count": 85,
   "metadata": {},
   "outputs": [
    {
     "data": {
      "image/png": "[encoded data removed]",
      "text/plain": [
       "<Figure size 864x432 with 2 Axes>"
      ]
     },
     "metadata": {
      "needs_background": "light"
     },
     "output_type": "display_data"
    }
   ],
   "source": [
    "plot_virus_spread(toy_small_world, initial_infected_nodes, r_infect = .25/avg_degree(toy_small_world), r_recover = .1, iterations = 200)"
   ]
  },
  {
   "cell_type": "markdown",
   "metadata": {},
   "source": [
    "This looks like exponential growth. This is weak evidence to support our r_infect and r_recover rates"
   ]
  },
  {
   "cell_type": "code",
   "execution_count": null,
   "metadata": {},
   "outputs": [],
   "source": []
  }
 ],
 "metadata": {
  "kernelspec": {
   "display_name": "dwaveCorona",
   "language": "python",
   "name": "dwavecorona"
  },
  "language_info": {
   "codemirror_mode": {
    "name": "ipython",
    "version": 3
   },
   "file_extension": ".py",
   "mimetype": "text/x-python",
   "name": "python",
   "nbconvert_exporter": "python",
   "pygments_lexer": "ipython3",
   "version": "3.6.9"
  }
 },
 "nbformat": 4,
 "nbformat_minor": 4
}
