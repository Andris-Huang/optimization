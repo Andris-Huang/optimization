{
 "cells": [
  {
   "cell_type": "markdown",
   "metadata": {},
   "source": [
    "## QAOA for MAXCUT\n",
    "\n",
    "Here we follow an altered tutorial for maxcut below:\n",
    "https://qiskit.org/textbook/ch-applications/qaoa.html\n",
    "Then we will try to test how the parameters passed in to qaoa affect the energy of a graph\n",
    "--energy defined as the cost function evaluated in qaoa for p=1"
   ]
  },
  {
   "cell_type": "code",
   "execution_count": 1,
   "metadata": {},
   "outputs": [],
   "source": [
    "#modified from https://github.com/Chriz91/qaoa-max-cut\n",
    "import matplotlib.pyplot as plt\n",
    "import numpy as np\n",
    "import networkx as nx\n",
    "import qiskit\n",
    "from qiskit import BasicAer\n",
    "from qiskit.optimization.ising import max_cut\n",
    "from qiskit.aqua import QuantumInstance\n",
    "from qiskit.aqua.components.optimizers.nlopts.esch import ESCH\n",
    "from qiskit.aqua.algorithms import QAOA\n",
    "from qiskit.quantum_info import Pauli\n",
    "from qiskit.aqua.operators.weighted_pauli_operator import WeightedPauliOperator\n",
    "import pandas as pd"
   ]
  },
  {
   "cell_type": "code",
   "execution_count": 2,
   "metadata": {},
   "outputs": [
    {
     "data": {
      "text/plain": [
       "{'qiskit-terra': '0.12.0',\n",
       " 'qiskit-aer': '0.4.1',\n",
       " 'qiskit-ignis': '0.2.0',\n",
       " 'qiskit-ibmq-provider': '0.5.0',\n",
       " 'qiskit-aqua': '0.6.4',\n",
       " 'qiskit': '0.16.1'}"
      ]
     },
     "execution_count": 2,
     "metadata": {},
     "output_type": "execute_result"
    }
   ],
   "source": [
    "qiskit.__qiskit_version__"
   ]
  },
  {
   "cell_type": "code",
   "execution_count": 3,
   "metadata": {},
   "outputs": [
    {
     "name": "stderr",
     "output_type": "stream",
     "text": [
      "/Users/victorli/anaconda3/lib/python3.7/site-packages/networkx/drawing/nx_pylab.py:579: MatplotlibDeprecationWarning: \n",
      "The iterable function was deprecated in Matplotlib 3.1 and will be removed in 3.3. Use np.iterable instead.\n",
      "  if not cb.iterable(width):\n"
     ]
    },
    {
     "data": {
      "image/png": "[encoded data removed]",
      "text/plain": [
       "<Figure size 432x288 with 1 Axes>"
      ]
     },
     "metadata": {},
     "output_type": "display_data"
    }
   ],
   "source": [
    "n = 6  # Number of nodes in graph\n",
    "G = nx.Graph()\n",
    "G.add_nodes_from(np.arange(0, n, 1))\n",
    "elist = [(0, 1, 1.0), (0, 2, 1.0), (0, 3, 1.0), (0, 4, 1.0), (1, 2, 1.0), (1, 5, 1.0), (4, 5, 1.0), (2, 3, 1.0)]\n",
    "G.add_weighted_edges_from(elist)\n",
    "\n",
    "colors = ['r' for node in G.nodes()]\n",
    "pos = nx.spring_layout(G)\n",
    "default_axes = plt.axes(frameon=True)\n",
    "nx.draw_networkx(G, node_color=colors, node_size=600, alpha=.8, ax=default_axes, pos=pos)\n",
    "plt.show()"
   ]
  },
  {
   "cell_type": "code",
   "execution_count": 6,
   "metadata": {},
   "outputs": [
    {
     "name": "stdout",
     "output_type": "stream",
     "text": [
      "weight matrix\n",
      "[[0. 1. 1. 1. 1. 0.]\n",
      " [1. 0. 1. 0. 0. 1.]\n",
      " [1. 1. 0. 1. 0. 0.]\n",
      " [1. 0. 1. 0. 0. 0.]\n",
      " [1. 0. 0. 0. 0. 1.]\n",
      " [0. 1. 0. 0. 1. 0.]]\n"
     ]
    }
   ],
   "source": [
    "w = np.zeros([n, n])\n",
    "for i in range(n):\n",
    "    for j in range(n):\n",
    "        temp = G.get_edge_data(i, j, default=0)\n",
    "        if temp != 0:\n",
    "            w[i, j] = temp['weight']\n",
    "\n",
    "print(\"weight matrix\")\n",
    "print(w)"
   ]
  },
  {
   "cell_type": "code",
   "execution_count": 7,
   "metadata": {},
   "outputs": [
    {
     "name": "stdout",
     "output_type": "stream",
     "text": [
      "\n",
      "Best solution = [0, 1, 0, 1, 1, 0] cost = 7.0\n"
     ]
    }
   ],
   "source": [
    "best_cost_brute = 0\n",
    "for b in range(2**n):\n",
    "    x = [int(t) for t in reversed(list(bin(b)[2:].zfill(n)))]\n",
    "    cost = 0\n",
    "    for i in range(n):\n",
    "        for j in range(n):\n",
    "            cost = cost + w[i, j]*x[i]*(1-x[j])\n",
    "    if best_cost_brute < cost:\n",
    "        best_cost_brute = cost\n",
    "        xbest_brute = x\n",
    "    #print('case = ' + str(x) + ' cost = ' + str(cost))\n",
    "\n",
    "print('\\nBest solution = ' + str(xbest_brute) + ' cost = ' + str(best_cost_brute))\n",
    "\n",
    "#NOTE THAT [1,0,1,0,0,1] IS AN EQUIVALENTLY GOOD PARTITION, so we hope to evolve into the subspace\n",
    "#spanned by 101001 and 010110"
   ]
  },
  {
   "cell_type": "code",
   "execution_count": 8,
   "metadata": {},
   "outputs": [],
   "source": [
    "#Converts adjacency matrix into a list of Pauli z operators (idk what the x part does)\n",
    "num_nodes = w.shape[0]\n",
    "pauli_list = []\n",
    "for i in range(num_nodes):\n",
    "    for j in range(i):\n",
    "        if w[i, j] != 0:\n",
    "            xp = np.zeros(num_nodes, dtype=np.bool)\n",
    "            zp = np.zeros(num_nodes, dtype=np.bool)\n",
    "            zp[i] = True\n",
    "            zp[j] = True\n",
    "            pauli_list.append([0.5 * w[i, j], Pauli(zp, xp)])\n",
    "qubitOp = WeightedPauliOperator(paulis=pauli_list)\n",
    "#print(qubitOp.paulis)"
   ]
  },
  {
   "cell_type": "code",
   "execution_count": 9,
   "metadata": {},
   "outputs": [
    {
     "ename": "AquaError",
     "evalue": "\"Unable to instantiate 'ESCH', nlopt is not installed. Please install it if you want to use them.\"",
     "output_type": "error",
     "traceback": [
      "\u001b[0;31m---------------------------------------------------------------------------\u001b[0m",
      "\u001b[0;31mAquaError\u001b[0m                                 Traceback (most recent call last)",
      "\u001b[0;32m<ipython-input-9-64ed7eb2b3df>\u001b[0m in \u001b[0;36m<module>\u001b[0;34m\u001b[0m\n\u001b[1;32m      8\u001b[0m \u001b[0mquantum_instance\u001b[0m \u001b[0;34m=\u001b[0m \u001b[0mQuantumInstance\u001b[0m\u001b[0;34m(\u001b[0m\u001b[0mbackend\u001b[0m\u001b[0;34m,\u001b[0m \u001b[0mshots\u001b[0m\u001b[0;34m=\u001b[0m\u001b[0mn_shots\u001b[0m\u001b[0;34m)\u001b[0m\u001b[0;34m\u001b[0m\u001b[0;34m\u001b[0m\u001b[0m\n\u001b[1;32m      9\u001b[0m \u001b[0;34m\u001b[0m\u001b[0m\n\u001b[0;32m---> 10\u001b[0;31m \u001b[0mqaoa\u001b[0m \u001b[0;34m=\u001b[0m \u001b[0mQAOA\u001b[0m\u001b[0;34m(\u001b[0m\u001b[0mqubitOp\u001b[0m\u001b[0;34m,\u001b[0m \u001b[0mESCH\u001b[0m\u001b[0;34m(\u001b[0m\u001b[0mmax_evals\u001b[0m\u001b[0;34m=\u001b[0m\u001b[0;36m100\u001b[0m\u001b[0;34m)\u001b[0m\u001b[0;34m,\u001b[0m \u001b[0mp\u001b[0m\u001b[0;34m=\u001b[0m\u001b[0mp_steps\u001b[0m\u001b[0;34m+\u001b[0m\u001b[0;36m8\u001b[0m\u001b[0;34m)\u001b[0m\u001b[0;34m\u001b[0m\u001b[0;34m\u001b[0m\u001b[0m\n\u001b[0m\u001b[1;32m     11\u001b[0m \u001b[0mresult\u001b[0m \u001b[0;34m=\u001b[0m \u001b[0mqaoa\u001b[0m\u001b[0;34m.\u001b[0m\u001b[0mrun\u001b[0m\u001b[0;34m(\u001b[0m\u001b[0mquantum_instance\u001b[0m\u001b[0;34m)\u001b[0m\u001b[0;34m\u001b[0m\u001b[0;34m\u001b[0m\u001b[0m\n\u001b[1;32m     12\u001b[0m \u001b[0;31m#State-vectors in result are written LSB (0th vertex is last qubit)\u001b[0m\u001b[0;34m\u001b[0m\u001b[0;34m\u001b[0m\u001b[0;34m\u001b[0m\u001b[0m\n",
      "\u001b[0;32m~/anaconda3/lib/python3.7/site-packages/qiskit/aqua/components/optimizers/nlopts/esch.py\u001b[0m in \u001b[0;36m__init__\u001b[0;34m(self, max_evals)\u001b[0m\n\u001b[1;32m     67\u001b[0m         \"\"\"\n\u001b[1;32m     68\u001b[0m         \u001b[0mself\u001b[0m\u001b[0;34m.\u001b[0m\u001b[0mvalidate\u001b[0m\u001b[0;34m(\u001b[0m\u001b[0mlocals\u001b[0m\u001b[0;34m(\u001b[0m\u001b[0;34m)\u001b[0m\u001b[0;34m)\u001b[0m\u001b[0;34m\u001b[0m\u001b[0;34m\u001b[0m\u001b[0m\n\u001b[0;32m---> 69\u001b[0;31m         \u001b[0msuper\u001b[0m\u001b[0;34m(\u001b[0m\u001b[0;34m)\u001b[0m\u001b[0;34m.\u001b[0m\u001b[0m__init__\u001b[0m\u001b[0;34m(\u001b[0m\u001b[0;34m)\u001b[0m\u001b[0;34m\u001b[0m\u001b[0;34m\u001b[0m\u001b[0m\n\u001b[0m\u001b[1;32m     70\u001b[0m         \u001b[0;32mfor\u001b[0m \u001b[0mk\u001b[0m\u001b[0;34m,\u001b[0m \u001b[0mv\u001b[0m \u001b[0;32min\u001b[0m \u001b[0mlocals\u001b[0m\u001b[0;34m(\u001b[0m\u001b[0;34m)\u001b[0m\u001b[0;34m.\u001b[0m\u001b[0mitems\u001b[0m\u001b[0;34m(\u001b[0m\u001b[0;34m)\u001b[0m\u001b[0;34m:\u001b[0m\u001b[0;34m\u001b[0m\u001b[0;34m\u001b[0m\u001b[0m\n\u001b[1;32m     71\u001b[0m             \u001b[0;32mif\u001b[0m \u001b[0mk\u001b[0m \u001b[0;32min\u001b[0m \u001b[0mself\u001b[0m\u001b[0;34m.\u001b[0m\u001b[0m_configuration\u001b[0m\u001b[0;34m[\u001b[0m\u001b[0;34m'options'\u001b[0m\u001b[0;34m]\u001b[0m\u001b[0;34m:\u001b[0m\u001b[0;34m\u001b[0m\u001b[0;34m\u001b[0m\u001b[0m\n",
      "\u001b[0;32m~/anaconda3/lib/python3.7/site-packages/qiskit/aqua/components/optimizers/optimizer.py\u001b[0m in \u001b[0;36m__init__\u001b[0;34m(self)\u001b[0m\n\u001b[1;32m     55\u001b[0m \u001b[0;34m\u001b[0m\u001b[0m\n\u001b[1;32m     56\u001b[0m         \"\"\"\n\u001b[0;32m---> 57\u001b[0;31m         \u001b[0msuper\u001b[0m\u001b[0;34m(\u001b[0m\u001b[0;34m)\u001b[0m\u001b[0;34m.\u001b[0m\u001b[0m__init__\u001b[0m\u001b[0;34m(\u001b[0m\u001b[0;34m)\u001b[0m\u001b[0;34m\u001b[0m\u001b[0;34m\u001b[0m\u001b[0m\n\u001b[0m\u001b[1;32m     58\u001b[0m         \u001b[0;32mif\u001b[0m \u001b[0;34m'support_level'\u001b[0m \u001b[0;32mnot\u001b[0m \u001b[0;32min\u001b[0m \u001b[0mself\u001b[0m\u001b[0;34m.\u001b[0m\u001b[0m_configuration\u001b[0m\u001b[0;34m:\u001b[0m\u001b[0;34m\u001b[0m\u001b[0;34m\u001b[0m\u001b[0m\n\u001b[1;32m     59\u001b[0m             \u001b[0mself\u001b[0m\u001b[0;34m.\u001b[0m\u001b[0m_configuration\u001b[0m\u001b[0;34m[\u001b[0m\u001b[0;34m'support_level'\u001b[0m\u001b[0;34m]\u001b[0m \u001b[0;34m=\u001b[0m \u001b[0mself\u001b[0m\u001b[0;34m.\u001b[0m\u001b[0mDEFAULT_CONFIGURATION\u001b[0m\u001b[0;34m[\u001b[0m\u001b[0;34m'support_level'\u001b[0m\u001b[0;34m]\u001b[0m\u001b[0;34m\u001b[0m\u001b[0;34m\u001b[0m\u001b[0m\n",
      "\u001b[0;32m~/anaconda3/lib/python3.7/site-packages/qiskit/aqua/pluggable.py\u001b[0m in \u001b[0;36m__init__\u001b[0;34m(self)\u001b[0m\n\u001b[1;32m     63\u001b[0m     \u001b[0;34m@\u001b[0m\u001b[0mabstractmethod\u001b[0m\u001b[0;34m\u001b[0m\u001b[0;34m\u001b[0m\u001b[0m\n\u001b[1;32m     64\u001b[0m     \u001b[0;32mdef\u001b[0m \u001b[0m__init__\u001b[0m\u001b[0;34m(\u001b[0m\u001b[0mself\u001b[0m\u001b[0;34m)\u001b[0m\u001b[0;34m:\u001b[0m\u001b[0;34m\u001b[0m\u001b[0;34m\u001b[0m\u001b[0m\n\u001b[0;32m---> 65\u001b[0;31m         \u001b[0mself\u001b[0m\u001b[0;34m.\u001b[0m\u001b[0mcheck_pluggable_valid\u001b[0m\u001b[0;34m(\u001b[0m\u001b[0;34m)\u001b[0m\u001b[0;34m\u001b[0m\u001b[0;34m\u001b[0m\u001b[0m\n\u001b[0m\u001b[1;32m     66\u001b[0m         \u001b[0mself\u001b[0m\u001b[0;34m.\u001b[0m\u001b[0m_configuration\u001b[0m \u001b[0;34m=\u001b[0m \u001b[0mcopy\u001b[0m\u001b[0;34m.\u001b[0m\u001b[0mdeepcopy\u001b[0m\u001b[0;34m(\u001b[0m\u001b[0mself\u001b[0m\u001b[0;34m.\u001b[0m\u001b[0mCONFIGURATION\u001b[0m\u001b[0;34m)\u001b[0m\u001b[0;34m\u001b[0m\u001b[0;34m\u001b[0m\u001b[0m\n\u001b[1;32m     67\u001b[0m \u001b[0;34m\u001b[0m\u001b[0m\n",
      "\u001b[0;32m~/anaconda3/lib/python3.7/site-packages/qiskit/aqua/components/optimizers/nlopts/esch.py\u001b[0m in \u001b[0;36mcheck_pluggable_valid\u001b[0;34m()\u001b[0m\n\u001b[1;32m     74\u001b[0m     \u001b[0;34m@\u001b[0m\u001b[0mstaticmethod\u001b[0m\u001b[0;34m\u001b[0m\u001b[0;34m\u001b[0m\u001b[0m\n\u001b[1;32m     75\u001b[0m     \u001b[0;32mdef\u001b[0m \u001b[0mcheck_pluggable_valid\u001b[0m\u001b[0;34m(\u001b[0m\u001b[0;34m)\u001b[0m\u001b[0;34m:\u001b[0m\u001b[0;34m\u001b[0m\u001b[0;34m\u001b[0m\u001b[0m\n\u001b[0;32m---> 76\u001b[0;31m         \u001b[0mcheck_nlopt_valid\u001b[0m\u001b[0;34m(\u001b[0m\u001b[0mESCH\u001b[0m\u001b[0;34m.\u001b[0m\u001b[0mCONFIGURATION\u001b[0m\u001b[0;34m[\u001b[0m\u001b[0;34m'name'\u001b[0m\u001b[0;34m]\u001b[0m\u001b[0;34m)\u001b[0m\u001b[0;34m\u001b[0m\u001b[0;34m\u001b[0m\u001b[0m\n\u001b[0m\u001b[1;32m     77\u001b[0m \u001b[0;34m\u001b[0m\u001b[0m\n\u001b[1;32m     78\u001b[0m     def optimize(self, num_vars, objective_function, gradient_function=None,\n",
      "\u001b[0;32m~/anaconda3/lib/python3.7/site-packages/qiskit/aqua/components/optimizers/nlopts/_nloptimizer.py\u001b[0m in \u001b[0;36mcheck_pluggable_valid\u001b[0;34m(name)\u001b[0m\n\u001b[1;32m     41\u001b[0m         \u001b[0;32mraise\u001b[0m \u001b[0mAquaError\u001b[0m\u001b[0;34m(\u001b[0m\u001b[0merr_msg\u001b[0m\u001b[0;34m)\u001b[0m \u001b[0;32mfrom\u001b[0m \u001b[0mex\u001b[0m\u001b[0;34m\u001b[0m\u001b[0;34m\u001b[0m\u001b[0m\n\u001b[1;32m     42\u001b[0m \u001b[0;34m\u001b[0m\u001b[0m\n\u001b[0;32m---> 43\u001b[0;31m     \u001b[0;32mraise\u001b[0m \u001b[0mAquaError\u001b[0m\u001b[0;34m(\u001b[0m\u001b[0merr_msg\u001b[0m\u001b[0;34m)\u001b[0m\u001b[0;34m\u001b[0m\u001b[0;34m\u001b[0m\u001b[0m\n\u001b[0m\u001b[1;32m     44\u001b[0m \u001b[0;34m\u001b[0m\u001b[0m\n\u001b[1;32m     45\u001b[0m \u001b[0;34m\u001b[0m\u001b[0m\n",
      "\u001b[0;31mAquaError\u001b[0m: \"Unable to instantiate 'ESCH', nlopt is not installed. Please install it if you want to use them.\""
     ]
    }
   ],
   "source": [
    "#Note from above, our goal is to maximum 1/2 - 1/2*sum(z_i*z_j) but we are equivalently minimizing 1/2*sum(z_i*z_j)\n",
    "#Therefore the true energy is 1/2 - (calculated min energy)\n",
    "\n",
    "n_shots = 512\n",
    "p_steps = 1\n",
    "\n",
    "backend = BasicAer.get_backend('qasm_simulator')\n",
    "quantum_instance = QuantumInstance(backend, shots=n_shots)\n",
    "\n",
    "qaoa = QAOA(qubitOp, ESCH(max_evals=100), p=p_steps+8)\n",
    "result = qaoa.run(quantum_instance)\n",
    "#State-vectors in result are written LSB (0th vertex is last qubit)\n",
    "print(result)\n",
    "\n",
    "solution = max_cut.sample_most_likely(result['eigvecs'][0]) #returns vector with highest counts\n",
    "print('energy:', result['energy'])\n",
    "print('time:', result['eval_time'])\n",
    "#print('solution:', max_cut.get_graph_solution(x)) #inverts string - idk why this is needed\n",
    "print('solution:', solution)\n",
    "print('optimal parameters', result['opt_params'])"
   ]
  },
  {
   "cell_type": "code",
   "execution_count": 151,
   "metadata": {},
   "outputs": [
    {
     "data": {
      "image/png": "[encoded data removed]",
      "text/plain": [
       "<Figure size 432x288 with 1 Axes>"
      ]
     },
     "metadata": {},
     "output_type": "display_data"
    },
    {
     "data": {
      "image/png": "[encoded data removed]",
      "text/plain": [
       "<Figure size 720x360 with 1 Axes>"
      ]
     },
     "metadata": {
      "needs_background": "light"
     },
     "output_type": "display_data"
    }
   ],
   "source": [
    "colors = ['r' if solution[i] == 0 else 'b' for i in range(n)]\n",
    "nx.draw_networkx(G, node_color=colors, node_size=600, alpha=.7, pos=pos)\n",
    "plt.show()\n",
    "df = pd.DataFrame.from_dict(result['min_vector'], orient='index') / n_shots\n",
    "df = df.sort_index()\n",
    "barplot = df.plot.bar(legend=False, figsize=(10, 5), fontsize=8)\n",
    "plt.show() #as you can see, the reversed solution 011010 is the most common"
   ]
  },
  {
   "cell_type": "code",
   "execution_count": 126,
   "metadata": {},
   "outputs": [
    {
     "data": {
      "image/png": "[encoded data removed]",
      "text/plain": [
       "<Figure size 432x288 with 1 Axes>"
      ]
     },
     "metadata": {
      "needs_background": "light"
     },
     "output_type": "display_data"
    }
   ],
   "source": [
    "#how do parameters, maximizing states, minimum energy (maximum for the true cost function as explained a couple cells above) \n",
    "n_shots = 512\n",
    "p_steps = 1\n",
    "\n",
    "backend_same_graph = BasicAer.get_backend('qasm_simulator')\n",
    "quantum_instance_same_graph = QuantumInstance(backend_same_graph, shots=n_shots)\n",
    "\n",
    "opt_params_same_graph = []\n",
    "opt_energies_same_graph = []\n",
    "opt_states_same_graph = []\n",
    "for i in range(10):\n",
    "    qaoa_same_graph = QAOA(qubitOp, ESCH(max_evals=80), p=p_steps)\n",
    "    result_same_graph = qaoa_same_graph.run(quantum_instance_same_graph)\n",
    "    opt_params_same_graph.append(result_same_graph['opt_params'])\n",
    "    opt_energies_same_graph.append(result_same_graph['energy'])\n",
    "    opt_states_same_graph.append(max_cut.sample_most_likely(result_same_graph['eigvecs'][0]))\n",
    "\n",
    "param_data_same_graph = np.array(opt_params_same_graph).T\n",
    "plt.scatter(param_data_same_graph[0], param_data_same_graph[1])\n",
    "plt.show()"
   ]
  },
  {
   "cell_type": "code",
   "execution_count": 141,
   "metadata": {},
   "outputs": [
    {
     "data": {
      "text/html": [
       "<div>\n",
       "<style scoped>\n",
       "    .dataframe tbody tr th:only-of-type {\n",
       "        vertical-align: middle;\n",
       "    }\n",
       "\n",
       "    .dataframe tbody tr th {\n",
       "        vertical-align: top;\n",
       "    }\n",
       "\n",
       "    .dataframe thead th {\n",
       "        text-align: right;\n",
       "    }\n",
       "</style>\n",
       "<table border=\"1\" class=\"dataframe\">\n",
       "  <thead>\n",
       "    <tr style=\"text-align: right;\">\n",
       "      <th></th>\n",
       "      <th>Beta</th>\n",
       "      <th>Gamma</th>\n",
       "      <th>State</th>\n",
       "      <th>Energy</th>\n",
       "    </tr>\n",
       "  </thead>\n",
       "  <tbody>\n",
       "    <tr>\n",
       "      <th>0</th>\n",
       "      <td>2.754659</td>\n",
       "      <td>2.754659</td>\n",
       "      <td>[0, 1, 0, 1, 1, 0]</td>\n",
       "      <td>1.316406</td>\n",
       "    </tr>\n",
       "    <tr>\n",
       "      <th>1</th>\n",
       "      <td>2.823983</td>\n",
       "      <td>2.823983</td>\n",
       "      <td>[0, 1, 0, 1, 1, 0]</td>\n",
       "      <td>1.128906</td>\n",
       "    </tr>\n",
       "    <tr>\n",
       "      <th>2</th>\n",
       "      <td>2.739890</td>\n",
       "      <td>2.739890</td>\n",
       "      <td>[1, 0, 1, 0, 0, 1]</td>\n",
       "      <td>1.746094</td>\n",
       "    </tr>\n",
       "    <tr>\n",
       "      <th>3</th>\n",
       "      <td>1.177643</td>\n",
       "      <td>1.177643</td>\n",
       "      <td>[0, 1, 0, 1, 1, 0]</td>\n",
       "      <td>1.761719</td>\n",
       "    </tr>\n",
       "    <tr>\n",
       "      <th>4</th>\n",
       "      <td>0.326809</td>\n",
       "      <td>0.326809</td>\n",
       "      <td>[1, 0, 1, 0, 0, 1]</td>\n",
       "      <td>1.796875</td>\n",
       "    </tr>\n",
       "    <tr>\n",
       "      <th>5</th>\n",
       "      <td>1.068999</td>\n",
       "      <td>1.068999</td>\n",
       "      <td>[0, 1, 0, 1, 1, 0]</td>\n",
       "      <td>1.519531</td>\n",
       "    </tr>\n",
       "    <tr>\n",
       "      <th>6</th>\n",
       "      <td>0.259304</td>\n",
       "      <td>0.259304</td>\n",
       "      <td>[0, 1, 0, 1, 1, 0]</td>\n",
       "      <td>1.697266</td>\n",
       "    </tr>\n",
       "    <tr>\n",
       "      <th>7</th>\n",
       "      <td>1.052769</td>\n",
       "      <td>1.052769</td>\n",
       "      <td>[1, 0, 1, 0, 0, 1]</td>\n",
       "      <td>1.470703</td>\n",
       "    </tr>\n",
       "    <tr>\n",
       "      <th>8</th>\n",
       "      <td>1.868528</td>\n",
       "      <td>1.868528</td>\n",
       "      <td>[1, 0, 1, 0, 0, 1]</td>\n",
       "      <td>1.585938</td>\n",
       "    </tr>\n",
       "    <tr>\n",
       "      <th>9</th>\n",
       "      <td>0.207224</td>\n",
       "      <td>0.207224</td>\n",
       "      <td>[0, 1, 0, 1, 1, 0]</td>\n",
       "      <td>1.642578</td>\n",
       "    </tr>\n",
       "  </tbody>\n",
       "</table>\n",
       "</div>"
      ],
      "text/plain": [
       "       Beta     Gamma               State    Energy\n",
       "0  2.754659  2.754659  [0, 1, 0, 1, 1, 0]  1.316406\n",
       "1  2.823983  2.823983  [0, 1, 0, 1, 1, 0]  1.128906\n",
       "2  2.739890  2.739890  [1, 0, 1, 0, 0, 1]  1.746094\n",
       "3  1.177643  1.177643  [0, 1, 0, 1, 1, 0]  1.761719\n",
       "4  0.326809  0.326809  [1, 0, 1, 0, 0, 1]  1.796875\n",
       "5  1.068999  1.068999  [0, 1, 0, 1, 1, 0]  1.519531\n",
       "6  0.259304  0.259304  [0, 1, 0, 1, 1, 0]  1.697266\n",
       "7  1.052769  1.052769  [1, 0, 1, 0, 0, 1]  1.470703\n",
       "8  1.868528  1.868528  [1, 0, 1, 0, 0, 1]  1.585938\n",
       "9  0.207224  0.207224  [0, 1, 0, 1, 1, 0]  1.642578"
      ]
     },
     "execution_count": 141,
     "metadata": {},
     "output_type": "execute_result"
    }
   ],
   "source": [
    "result_table_same_graph = pd.DataFrame(data = {\"Beta\":param_data_same_graph[0], \"Gamma\":param_data_same_graph[0],\n",
    "                            \"State\":opt_states_same_graph, \"Energy\": .5-np.array(opt_energies_same_graph)})\n",
    "result_table_same_graph"
   ]
  },
  {
   "cell_type": "code",
   "execution_count": 128,
   "metadata": {},
   "outputs": [
    {
     "name": "stdout",
     "output_type": "stream",
     "text": [
      "energy: -0.34765625\n",
      "time: 0.17056846618652344\n",
      "solution: [0 1 0 1 1 0]\n",
      "optimal parameters [2. 5.]\n"
     ]
    },
    {
     "data": {
      "image/png": "[encoded data removed]",
      "text/plain": [
       "<Figure size 1080x360 with 1 Axes>"
      ]
     },
     "metadata": {
      "needs_background": "light"
     },
     "output_type": "display_data"
    }
   ],
   "source": [
    "n_shots = 512\n",
    "p_steps = 1\n",
    "\n",
    "backend = BasicAer.get_backend('qasm_simulator')\n",
    "quantum_instance = QuantumInstance(backend, shots=n_shots)\n",
    "\n",
    "qaoa = QAOA(qubitOp, ESCH(max_evals=1), p=p_steps, initial_point = [2, 5])\n",
    "result = qaoa.run(quantum_instance)\n",
    "#State-vectors in result are written LSB (0th vertex is last qubit)\n",
    "#print(result)\n",
    "\n",
    "solution = max_cut.sample_most_likely(result['eigvecs'][0]) #returns vector with highest counts\n",
    "print('energy:', result['energy'])\n",
    "print('time:', result['eval_time'])\n",
    "#print('solution:', max_cut.get_graph_solution(x)) #inverts string - idk why this is needed\n",
    "print('solution:', solution)\n",
    "print('optimal parameters', result['opt_params'])\n",
    "df = pd.DataFrame.from_dict(result['min_vector'], orient='index') / n_shots\n",
    "df = df.sort_index()\n",
    "barplot = df.plot.bar(legend=False, figsize=(15, 5), fontsize=8)\n",
    "plt.show()"
   ]
  },
  {
   "cell_type": "code",
   "execution_count": null,
   "metadata": {
    "collapsed": true
   },
   "outputs": [],
   "source": []
  }
 ],
 "metadata": {
  "kernelspec": {
   "display_name": "Python 3",
   "language": "python",
   "name": "python3"
  },
  "language_info": {
   "codemirror_mode": {
    "name": "ipython",
    "version": 3
   },
   "file_extension": ".py",
   "mimetype": "text/x-python",
   "name": "python",
   "nbconvert_exporter": "python",
   "pygments_lexer": "ipython3",
   "version": "3.7.3"
  }
 },
 "nbformat": 4,
 "nbformat_minor": 2
}
