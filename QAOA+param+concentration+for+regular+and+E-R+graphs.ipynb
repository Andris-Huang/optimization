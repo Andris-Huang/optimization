{
 "cells": [
  {
   "cell_type": "markdown",
   "metadata": {},
   "source": [
    "The gameplan for this notebook is nothing novel, simply re-doing some stuff from https://arxiv.org/abs/1812.04170:\n",
    "\n",
    "* For both k-regular and E-R (Erdos-Reyni) graphs: \n",
    "\n",
    "    a) For p=1, run qaoa on one instance of the graph, see how well those parameters do on other instances of the same size\n",
    "    \n",
    "    b) Take the same parameters from above and repeat but for larger graphs but with the same properties (k-regular) or E-R with same probability for picking edges\n",
    "    \n",
    "Once we get comfortable doing this process we can look at graph algorithms other than max-cut, or start seeing if QAOA on maxcut can distinguish other interesting graph properties"
   ]
  },
  {
   "cell_type": "code",
   "execution_count": 16,
   "metadata": {},
   "outputs": [],
   "source": [
    "import matplotlib.pyplot as plt\n",
    "import numpy as np\n",
    "import networkx as nx\n",
    "import qiskit\n",
    "from qiskit import BasicAer\n",
    "from qiskit.optimization.ising import max_cut\n",
    "import qiskit.optimization.ising.common as common\n",
    "from qiskit.aqua import QuantumInstance\n",
    "from qiskit.aqua.components.optimizers.nlopts.esch import ESCH\n",
    "from qiskit.aqua.algorithms import QAOA\n",
    "from qiskit.quantum_info import Pauli\n",
    "from qiskit.aqua.operators.weighted_pauli_operator import WeightedPauliOperator\n",
    "import pandas as pd\n",
    "import random"
   ]
  },
  {
   "cell_type": "markdown",
   "metadata": {},
   "source": [
    "### Helpful Functions"
   ]
  },
  {
   "cell_type": "code",
   "execution_count": 17,
   "metadata": {},
   "outputs": [],
   "source": [
    "#brute force find max cut on graph with adjacency matrix adj\n",
    "def maxCutBrute(adj):\n",
    "    bestCostBrute = 0\n",
    "    n = len(adj)\n",
    "    for b in range(2**n):\n",
    "        x = [int(t) for t in reversed(list(bin(b)[2:].zfill(n)))]\n",
    "        cost = 0\n",
    "        for i in range(n):\n",
    "            for j in range(n):\n",
    "                cost = cost + adj[i, j]*x[i]*(1-x[j])\n",
    "        if bestCostBrute < cost:\n",
    "            bestCostBrute = cost\n",
    "            xBestBrute = x\n",
    "    return xBestBrute, int(bestCostBrute)"
   ]
  },
  {
   "cell_type": "code",
   "execution_count": 18,
   "metadata": {},
   "outputs": [],
   "source": [
    "def generateRegularGraphs(n, k, numGraphs):\n",
    "    # find the most common max-cut value for typical instances \n",
    "    testGraphProfits = []\n",
    "    for i in range(15):\n",
    "        newGraph = nx.random_graphs.random_regular_graph(k, n)\n",
    "        newAdj = nx.convert_matrix.to_numpy_matrix(newGraph)\n",
    "        testGraphProfits.append(maxCutBrute(newAdj)[1])\n",
    "        targetMaxCutProfit = max(set(testGraphProfits), key=testGraphProfits.count)\n",
    "    graphs = []\n",
    "    numGenerated = 0\n",
    "    #avoid infinite loop by putting reasonable target values !!!\n",
    "    while numGenerated < numGraphs:\n",
    "        newGraph = nx.random_graphs.random_regular_graph(k, n)\n",
    "        newAdj = nx.convert_matrix.to_numpy_matrix(newGraph)\n",
    "        brute = maxCutBrute(newAdj)[1]\n",
    "        if brute == targetMaxCutProfit:\n",
    "            graphs.append(newGraph)\n",
    "            numGenerated += 1\n",
    "    return graphs"
   ]
  },
  {
   "cell_type": "code",
   "execution_count": 19,
   "metadata": {},
   "outputs": [],
   "source": [
    "def generatePauliList(adj):\n",
    "    #Converts adjacency matrix into a list of Pauli z operators (idk what the x part does)\n",
    "    numNodes = adj.shape[0]\n",
    "    pauliList = []\n",
    "    for i in range(numNodes):\n",
    "        for j in range(i):\n",
    "            if adj[i, j] != 0:\n",
    "                xp = np.zeros(numNodes, dtype=np.bool)\n",
    "                zp = np.zeros(numNodes, dtype=np.bool)\n",
    "                zp[i] = True\n",
    "                zp[j] = True\n",
    "                pauliList.append([0.5 * adj[i, j], Pauli(zp, xp)])\n",
    "    return WeightedPauliOperator(paulis=pauliList)"
   ]
  },
  {
   "cell_type": "code",
   "execution_count": 20,
   "metadata": {},
   "outputs": [],
   "source": [
    "# generate parameter list with pSteps betas followed by pSteps gammas with 0<beta<pi and 0<gamma<2pi\n",
    "def generateRandomInitialPoint(pSteps):\n",
    "    return list(np.pi * np.append(np.random.rand(pSteps), 2 * np.random.rand(pSteps)))"
   ]
  },
  {
   "cell_type": "code",
   "execution_count": 21,
   "metadata": {},
   "outputs": [],
   "source": [
    "#Note from above, our goal is to maximum #egdes/2 - 1/2*sum(z_i*z_j) but we are equivalently minimizing 1/2*sum(z_i*z_j)\n",
    "#Therefore the true energy is offset - (calculated min energy) where offset is #edges/2\n",
    "#Initial point is of form [pSteps betas where 0<beta<pi, pSteps gammas where 0<gamma<2*pi]\n",
    "def maxCutQAOA(nShots, pSteps, qubitOp, offset, maxEvals, initialPoint = None):\n",
    "    backend = BasicAer.get_backend('qasm_simulator')\n",
    "    quantumInstance = QuantumInstance(backend, shots=nShots)\n",
    "    if initialPoint != None:\n",
    "        qaoa = QAOA(qubitOp, ESCH(max_evals=maxEvals), p=pSteps, initial_point = initialPoint)\n",
    "    else:\n",
    "        qaoa = QAOA(qubitOp, ESCH(max_evals=maxEvals), p=pSteps)\n",
    "    result = qaoa.run(quantumInstance)\n",
    "    #State-vectors in result are written LSB (0th vertex is last qubit)\n",
    "    solution = max_cut.get_graph_solution(common.sample_most_likely(result['eigvecs'][0]))\n",
    "    return {'result':result, 'energy': -result['energy'] + offset, 'params':result['opt_params'], 'solution':solution}"
   ]
  },
  {
   "cell_type": "code",
   "execution_count": 22,
   "metadata": {},
   "outputs": [],
   "source": [
    "def generateResults(graphList, nShots, pSteps, maxEvals, initialPoint=None):\n",
    "    # return qaoa data for all graphs in graphList   \n",
    "    results = []\n",
    "    for g in graphList:\n",
    "        adj = nx.convert_matrix.to_numpy_matrix(g)\n",
    "        bruteCut = maxCutBrute(adj)\n",
    "        operator = generatePauliList(adj)\n",
    "        qaoaResult = maxCutQAOA(nShots, pSteps, operator, g.number_of_edges()/2, maxEvals, initialPoint=initialPoint)\n",
    "        params = np.round(qaoaResult['params'], 5)\n",
    "        energy = qaoaResult['energy']\n",
    "        result = [params, qaoaResult['solution'], energy, bruteCut[0], bruteCut[1], energy/bruteCut[1]]\n",
    "        results.append(result)\n",
    "    return np.array(results)\n",
    "\n",
    "# convert data generated by generateResults to pandas DataFrame\n",
    "def resultDataToTable(result):\n",
    "    return pd.DataFrame(result, columns = [\"Parameters\", \"Sampled QAOA vector\", \"QAOA vector profit\", \n",
    "                                          \"Best vector\", \"Best vector profit\", \"QAOA/Best profit\"])\n",
    "\n",
    "# return mean and deviation of data generated by generateResults\n",
    "def resultDataStats(result):\n",
    "    qaoaProfit, optimumProfit = result.T[2], np.mean(result.T[4])\n",
    "    mean, stdev = np.round(np.mean(qaoaProfit),3), np.round(np.std(qaoaProfit),3)\n",
    "    return {'mean': mean, 'st dev': stdev, 'fraction': mean/optimumProfit, 'dev fraction':stdev/optimumProfit}"
   ]
  },
  {
   "cell_type": "markdown",
   "metadata": {},
   "source": [
    "### 4-Regular Graphs Example"
   ]
  },
  {
   "cell_type": "markdown",
   "metadata": {},
   "source": [
    "A note: You can find the number of non-isomorphi k-regular n node graphs here (copied for small n below): https://oeis.org/A051031/table\n",
    "The easist to read is the triangular table, the rows correspond to number of nodes starting with 1 at the top\n",
    "The columns correspond to degree starting with 0 on the left.\n",
    "\n",
    "n=1:  1\t\n",
    "n=2:  1\t\t1\t\n",
    "n=3:  1\t\t0\t\t1\t\n",
    "n=4:  1\t\t1\t\t1\t\t1\t\n",
    "n=5:  1\t\t0\t\t1\t\t0\t\t1\t\n",
    "n=6:  1\t\t1\t\t2\t\t2\t\t1\t\t1\t\n",
    "n=7:  1\t\t0\t\t2\t\t0\t\t2\t\t0\t\t1\t\n",
    "n=8:  1\t\t1\t\t3\t\t6\t\t6\t\t3\t\t1\t\t1\t\n",
    "n=9:  1\t\t0\t\t4\t\t0\t\t16\t\t0\t\t4\t\t0\t\t1\t\n",
    "n=10: 1\t\t1\t\t5\t\t21\t\t60\t\t60\t\t21\t\t5\t\t1\t\t1\n",
    "\n",
    "We'll start with n=8, k=4, so we have at least 6 non-isomorphic graphs to work with. We first find optimal parameters for one instance of a 4-regular 8 vertex graph"
   ]
  },
  {
   "cell_type": "code",
   "execution_count": 8,
   "metadata": {},
   "outputs": [
    {
     "name": "stderr",
     "output_type": "stream",
     "text": [
      "/Users/victorli/anaconda3/lib/python3.7/site-packages/networkx/drawing/nx_pylab.py:579: MatplotlibDeprecationWarning: \n",
      "The iterable function was deprecated in Matplotlib 3.1 and will be removed in 3.3. Use np.iterable instead.\n",
      "  if not cb.iterable(width):\n"
     ]
    },
    {
     "data": {
      "image/png": "[encoded data removed]",
      "text/plain": [
       "<Figure size 144x72 with 1 Axes>"
      ]
     },
     "metadata": {},
     "output_type": "display_data"
    }
   ],
   "source": [
    "n8k4_base = nx.random_graphs.random_regular_graph(4, 8)\n",
    "plt.figure(figsize = (2,1))\n",
    "nx.draw(n8k4_base, node_size=30, alpha=1)"
   ]
  },
  {
   "cell_type": "code",
   "execution_count": 9,
   "metadata": {},
   "outputs": [
    {
     "name": "stdout",
     "output_type": "stream",
     "text": [
      "So some good angles are beta, gamma =  [1.86056 0.07479 2.42325 0.7504 ]\n"
     ]
    }
   ],
   "source": [
    "nShots, pSteps = 256, 2\n",
    "maxEvals = 75\n",
    "n8k4_baseData = generateResults([n8k4_base], nShots, pSteps, maxEvals)\n",
    "n8k4_baseTable = resultDataToTable(n8k4_baseData)\n",
    "n8k4_baseTable\n",
    "print('So some good angles are beta, gamma = ', n8k4_baseData[0][0])"
   ]
  },
  {
   "cell_type": "code",
   "execution_count": 10,
   "metadata": {},
   "outputs": [
    {
     "data": {
      "image/png": "[encoded data removed]",
      "text/plain": [
       "<Figure size 576x144 with 6 Axes>"
      ]
     },
     "metadata": {},
     "output_type": "display_data"
    }
   ],
   "source": [
    "#generate #numPlots random k-reg graphs on n nodes using networx\n",
    "n8k4_numPlots = 6 #plz make a multiple of 2 or else my bitchass plotting function wont work\n",
    "n8k4_graphs = generateRegularGraphs(8, 4, n8k4_numPlots)\n",
    "plt.figure(figsize = (8,2))\n",
    "for i in range(n8k4_numPlots):\n",
    "    plt.subplot(2, n8k4_numPlots//2, i+1) \n",
    "    nx.draw(n8k4_graphs[i], node_size=30, alpha=1)\n",
    "plt.show()"
   ]
  },
  {
   "cell_type": "code",
   "execution_count": 11,
   "metadata": {},
   "outputs": [
    {
     "name": "stdout",
     "output_type": "stream",
     "text": [
      "Mean qaoa profit: 9.533 . Deviation of qaoa profit 0.062\n"
     ]
    },
    {
     "data": {
      "text/html": [
       "<div>\n",
       "<style scoped>\n",
       "    .dataframe tbody tr th:only-of-type {\n",
       "        vertical-align: middle;\n",
       "    }\n",
       "\n",
       "    .dataframe tbody tr th {\n",
       "        vertical-align: top;\n",
       "    }\n",
       "\n",
       "    .dataframe thead th {\n",
       "        text-align: right;\n",
       "    }\n",
       "</style>\n",
       "<table border=\"1\" class=\"dataframe\">\n",
       "  <thead>\n",
       "    <tr style=\"text-align: right;\">\n",
       "      <th></th>\n",
       "      <th>Parameters</th>\n",
       "      <th>Sampled QAOA vector</th>\n",
       "      <th>QAOA vector profit</th>\n",
       "      <th>Best vector</th>\n",
       "      <th>Best vector profit</th>\n",
       "      <th>QAOA/Best profit</th>\n",
       "    </tr>\n",
       "  </thead>\n",
       "  <tbody>\n",
       "    <tr>\n",
       "      <th>0</th>\n",
       "      <td>[1.86056, 0.07479, 2.42325, 0.7504]</td>\n",
       "      <td>[0, 1, 0, 0, 0, 0, 1, 1]</td>\n",
       "      <td>9.52344</td>\n",
       "      <td>[1, 0, 1, 1, 0, 1, 0, 0]</td>\n",
       "      <td>12</td>\n",
       "      <td>0.79362</td>\n",
       "    </tr>\n",
       "    <tr>\n",
       "      <th>1</th>\n",
       "      <td>[1.86056, 0.07479, 2.42325, 0.7504]</td>\n",
       "      <td>[0, 0, 1, 0, 1, 0, 0, 1]</td>\n",
       "      <td>9.50781</td>\n",
       "      <td>[0, 1, 1, 0, 1, 0, 0, 0]</td>\n",
       "      <td>12</td>\n",
       "      <td>0.792318</td>\n",
       "    </tr>\n",
       "    <tr>\n",
       "      <th>2</th>\n",
       "      <td>[1.86056, 0.07479, 2.42325, 0.7504]</td>\n",
       "      <td>[1, 1, 1, 0, 1, 0, 0, 1]</td>\n",
       "      <td>9.59375</td>\n",
       "      <td>[1, 0, 0, 0, 1, 0, 1, 0]</td>\n",
       "      <td>12</td>\n",
       "      <td>0.799479</td>\n",
       "    </tr>\n",
       "    <tr>\n",
       "      <th>3</th>\n",
       "      <td>[1.86056, 0.07479, 2.42325, 0.7504]</td>\n",
       "      <td>[1, 0, 1, 0, 0, 0, 0, 1]</td>\n",
       "      <td>9.41406</td>\n",
       "      <td>[0, 1, 0, 0, 1, 1, 0, 0]</td>\n",
       "      <td>12</td>\n",
       "      <td>0.784505</td>\n",
       "    </tr>\n",
       "    <tr>\n",
       "      <th>4</th>\n",
       "      <td>[1.86056, 0.07479, 2.42325, 0.7504]</td>\n",
       "      <td>[1, 1, 0, 0, 1, 1, 0, 0]</td>\n",
       "      <td>9.5625</td>\n",
       "      <td>[1, 1, 0, 0, 1, 1, 0, 0]</td>\n",
       "      <td>12</td>\n",
       "      <td>0.796875</td>\n",
       "    </tr>\n",
       "    <tr>\n",
       "      <th>5</th>\n",
       "      <td>[1.86056, 0.07479, 2.42325, 0.7504]</td>\n",
       "      <td>[1, 0, 0, 1, 0, 1, 1, 0]</td>\n",
       "      <td>9.59375</td>\n",
       "      <td>[1, 0, 0, 0, 1, 1, 0, 0]</td>\n",
       "      <td>12</td>\n",
       "      <td>0.799479</td>\n",
       "    </tr>\n",
       "  </tbody>\n",
       "</table>\n",
       "</div>"
      ],
      "text/plain": [
       "                            Parameters       Sampled QAOA vector  \\\n",
       "0  [1.86056, 0.07479, 2.42325, 0.7504]  [0, 1, 0, 0, 0, 0, 1, 1]   \n",
       "1  [1.86056, 0.07479, 2.42325, 0.7504]  [0, 0, 1, 0, 1, 0, 0, 1]   \n",
       "2  [1.86056, 0.07479, 2.42325, 0.7504]  [1, 1, 1, 0, 1, 0, 0, 1]   \n",
       "3  [1.86056, 0.07479, 2.42325, 0.7504]  [1, 0, 1, 0, 0, 0, 0, 1]   \n",
       "4  [1.86056, 0.07479, 2.42325, 0.7504]  [1, 1, 0, 0, 1, 1, 0, 0]   \n",
       "5  [1.86056, 0.07479, 2.42325, 0.7504]  [1, 0, 0, 1, 0, 1, 1, 0]   \n",
       "\n",
       "  QAOA vector profit               Best vector Best vector profit  \\\n",
       "0            9.52344  [1, 0, 1, 1, 0, 1, 0, 0]                 12   \n",
       "1            9.50781  [0, 1, 1, 0, 1, 0, 0, 0]                 12   \n",
       "2            9.59375  [1, 0, 0, 0, 1, 0, 1, 0]                 12   \n",
       "3            9.41406  [0, 1, 0, 0, 1, 1, 0, 0]                 12   \n",
       "4             9.5625  [1, 1, 0, 0, 1, 1, 0, 0]                 12   \n",
       "5            9.59375  [1, 0, 0, 0, 1, 1, 0, 0]                 12   \n",
       "\n",
       "  QAOA/Best profit  \n",
       "0          0.79362  \n",
       "1         0.792318  \n",
       "2         0.799479  \n",
       "3         0.784505  \n",
       "4         0.796875  \n",
       "5         0.799479  "
      ]
     },
     "execution_count": 11,
     "metadata": {},
     "output_type": "execute_result"
    }
   ],
   "source": [
    "# n8k4_baseData[0][0] holds the optimal parameters from our n8k4_base run\n",
    "n8k4_optimalData = generateResults(n8k4_graphs, nShots, pSteps, 1, list(n8k4_baseData[0][0]))\n",
    "n8k4_optimalTable = resultDataToTable(n8k4_optimalData)\n",
    "n8k4_optimalStats = resultDataStats(n8k4_optimalData)\n",
    "print('Mean qaoa profit:', n8k4_optimalStats['mean'], '. Deviation of qaoa profit', n8k4_optimalStats['st dev'])\n",
    "n8k4_optimalTable"
   ]
  },
  {
   "cell_type": "markdown",
   "metadata": {
    "collapsed": true
   },
   "source": [
    "What if we tried with some random parameters, rather than the optimal parameters for some instance?"
   ]
  },
  {
   "cell_type": "code",
   "execution_count": 12,
   "metadata": {},
   "outputs": [
    {
     "name": "stdout",
     "output_type": "stream",
     "text": [
      "mean qaoa profit: 7.013 . Deviation of qaoa profit: 0.102\n"
     ]
    },
    {
     "data": {
      "text/html": [
       "<div>\n",
       "<style scoped>\n",
       "    .dataframe tbody tr th:only-of-type {\n",
       "        vertical-align: middle;\n",
       "    }\n",
       "\n",
       "    .dataframe tbody tr th {\n",
       "        vertical-align: top;\n",
       "    }\n",
       "\n",
       "    .dataframe thead th {\n",
       "        text-align: right;\n",
       "    }\n",
       "</style>\n",
       "<table border=\"1\" class=\"dataframe\">\n",
       "  <thead>\n",
       "    <tr style=\"text-align: right;\">\n",
       "      <th></th>\n",
       "      <th>Parameters</th>\n",
       "      <th>Sampled QAOA vector</th>\n",
       "      <th>QAOA vector profit</th>\n",
       "      <th>Best vector</th>\n",
       "      <th>Best vector profit</th>\n",
       "      <th>QAOA/Best profit</th>\n",
       "    </tr>\n",
       "  </thead>\n",
       "  <tbody>\n",
       "    <tr>\n",
       "      <th>0</th>\n",
       "      <td>[1.02657, 0.01443, 6.14785, 4.06286]</td>\n",
       "      <td>[0, 0, 0, 0, 0, 1, 0, 0]</td>\n",
       "      <td>7.04688</td>\n",
       "      <td>[1, 0, 1, 1, 0, 1, 0, 0]</td>\n",
       "      <td>12</td>\n",
       "      <td>0.58724</td>\n",
       "    </tr>\n",
       "    <tr>\n",
       "      <th>1</th>\n",
       "      <td>[1.02657, 0.01443, 6.14785, 4.06286]</td>\n",
       "      <td>[1, 1, 1, 1, 1, 1, 1, 1]</td>\n",
       "      <td>7.09375</td>\n",
       "      <td>[0, 1, 1, 0, 1, 0, 0, 0]</td>\n",
       "      <td>12</td>\n",
       "      <td>0.591146</td>\n",
       "    </tr>\n",
       "    <tr>\n",
       "      <th>2</th>\n",
       "      <td>[1.02657, 0.01443, 6.14785, 4.06286]</td>\n",
       "      <td>[1, 1, 1, 0, 1, 1, 1, 1]</td>\n",
       "      <td>6.97656</td>\n",
       "      <td>[1, 0, 0, 0, 1, 0, 1, 0]</td>\n",
       "      <td>12</td>\n",
       "      <td>0.58138</td>\n",
       "    </tr>\n",
       "    <tr>\n",
       "      <th>3</th>\n",
       "      <td>[1.02657, 0.01443, 6.14785, 4.06286]</td>\n",
       "      <td>[0, 0, 0, 0, 0, 0, 0, 1]</td>\n",
       "      <td>7.04688</td>\n",
       "      <td>[0, 1, 0, 0, 1, 1, 0, 0]</td>\n",
       "      <td>12</td>\n",
       "      <td>0.58724</td>\n",
       "    </tr>\n",
       "    <tr>\n",
       "      <th>4</th>\n",
       "      <td>[1.02657, 0.01443, 6.14785, 4.06286]</td>\n",
       "      <td>[1, 1, 1, 1, 1, 1, 1, 1]</td>\n",
       "      <td>6.80469</td>\n",
       "      <td>[1, 1, 0, 0, 1, 1, 0, 0]</td>\n",
       "      <td>12</td>\n",
       "      <td>0.567057</td>\n",
       "    </tr>\n",
       "    <tr>\n",
       "      <th>5</th>\n",
       "      <td>[1.02657, 0.01443, 6.14785, 4.06286]</td>\n",
       "      <td>[0, 0, 0, 0, 0, 1, 0, 0]</td>\n",
       "      <td>7.10938</td>\n",
       "      <td>[1, 0, 0, 0, 1, 1, 0, 0]</td>\n",
       "      <td>12</td>\n",
       "      <td>0.592448</td>\n",
       "    </tr>\n",
       "  </tbody>\n",
       "</table>\n",
       "</div>"
      ],
      "text/plain": [
       "                             Parameters       Sampled QAOA vector  \\\n",
       "0  [1.02657, 0.01443, 6.14785, 4.06286]  [0, 0, 0, 0, 0, 1, 0, 0]   \n",
       "1  [1.02657, 0.01443, 6.14785, 4.06286]  [1, 1, 1, 1, 1, 1, 1, 1]   \n",
       "2  [1.02657, 0.01443, 6.14785, 4.06286]  [1, 1, 1, 0, 1, 1, 1, 1]   \n",
       "3  [1.02657, 0.01443, 6.14785, 4.06286]  [0, 0, 0, 0, 0, 0, 0, 1]   \n",
       "4  [1.02657, 0.01443, 6.14785, 4.06286]  [1, 1, 1, 1, 1, 1, 1, 1]   \n",
       "5  [1.02657, 0.01443, 6.14785, 4.06286]  [0, 0, 0, 0, 0, 1, 0, 0]   \n",
       "\n",
       "  QAOA vector profit               Best vector Best vector profit  \\\n",
       "0            7.04688  [1, 0, 1, 1, 0, 1, 0, 0]                 12   \n",
       "1            7.09375  [0, 1, 1, 0, 1, 0, 0, 0]                 12   \n",
       "2            6.97656  [1, 0, 0, 0, 1, 0, 1, 0]                 12   \n",
       "3            7.04688  [0, 1, 0, 0, 1, 1, 0, 0]                 12   \n",
       "4            6.80469  [1, 1, 0, 0, 1, 1, 0, 0]                 12   \n",
       "5            7.10938  [1, 0, 0, 0, 1, 1, 0, 0]                 12   \n",
       "\n",
       "  QAOA/Best profit  \n",
       "0          0.58724  \n",
       "1         0.591146  \n",
       "2          0.58138  \n",
       "3          0.58724  \n",
       "4         0.567057  \n",
       "5         0.592448  "
      ]
     },
     "execution_count": 12,
     "metadata": {},
     "output_type": "execute_result"
    }
   ],
   "source": [
    "# Try with random beta and gamma, within allowable ranges by IBM QAOA (pi and 2pi respectively)\n",
    "n8k4_randomInitialPoint = list(np.pi * np.append(np.random.rand(pSteps), 2 * np.random.rand(pSteps)))\n",
    "n8k4_randomData = generateResults(n8k4_graphs, nShots, pSteps, 1, n8k4_randomInitialPoint)\n",
    "n8k4_randomTable = resultDataToTable(n8k4_randomData)\n",
    "n8k4_randomStats = resultDataStats(n8k4_randomData)\n",
    "print('mean qaoa profit:', n8k4_randomStats['mean'], '. Deviation of qaoa profit:', n8k4_randomStats['st dev'])\n",
    "n8k4_randomTable"
   ]
  },
  {
   "cell_type": "markdown",
   "metadata": {},
   "source": [
    "Noice! The profit concentrates for random and optimal parameters :0\n",
    "\n",
    "So far we can now do everything on the chart on page 8 of https://arxiv.org/abs/1812.04170, provided we can find \"Low\" parameters, or those that minimize the qaoa maxcut profit, which we could do by trying a bunch of random angles"
   ]
  },
  {
   "cell_type": "markdown",
   "metadata": {},
   "source": [
    "## Scaling n\n",
    "#### How do optimal parameters for small n scale to larger n? Lets start with 4 regular graphs again"
   ]
  },
  {
   "cell_type": "code",
   "execution_count": 23,
   "metadata": {},
   "outputs": [
    {
     "name": "stdout",
     "output_type": "stream",
     "text": [
      "8 node 4 reg graph qaoa trained optimality: 0.8014322916666666\n"
     ]
    }
   ],
   "source": [
    "# Find the optimal parameters for p=1 qaoa on 8 node 4-regular graphs\n",
    "n8k4_graph = nx.random_graphs.random_regular_graph(4, 8)\n",
    "nShots, pSteps, maxEvals = 256, 1, 75\n",
    "n8k4_graphData = generateResults([n8k4_graph], nShots, pSteps, maxEvals)\n",
    "n8k4_params = list(n8k4_graphData[0][0])\n",
    "print('8 node 4 reg graph qaoa trained optimality:', n8k4_graphData[0][2]/n8k4_graphData[0][4])\n",
    "\n",
    "# Test how this scales to 10 node graphs\n",
    "k4_numPlots = 6 \n",
    "n10k4_graphs = generateRegularGraphs(10, 4, k4_numPlots)\n",
    "n10k4_optimalData = generateResults(n10k4_graphs, nShots, pSteps, 1, n8k4_params)\n",
    "n10k4_optimalStats = resultDataStats(n10k4_optimalData)\n",
    "print('10 nodes optimum:\\n', 'Mean qaoa profit:', n10k4_optimalStats['mean'], ', Deviation of qaoa profit', \n",
    "      n10k4_optimalStats['st dev'], ', Qaoa profit optimality', n10k4_optimalStats['fraction'])\n",
    "\n",
    "# compare to randomly chosen parameters\n",
    "n10k4_initParams = generateRandomInitialPoint(1)\n",
    "n10k4_randomData = generateResults(n10k4_graphs, nShots, pSteps, 1, n10k4_initParams)\n",
    "n10k4_randomStats = resultDataStats(n10k4_randomData)\n",
    "print('10 nodes random:\\n', 'Mean qaoa profit:', n10k4_randomStats['mean'], ', Deviation of qaoa profit', \n",
    "      n10k4_randomStats['st dev'], ', Qaoa profit optimality', n10k4_randomStats['fraction'])"
   ]
  },
  {
   "cell_type": "code",
   "execution_count": null,
   "metadata": {},
   "outputs": [
    {
     "name": "stdout",
     "output_type": "stream",
     "text": [
      "15 nodes optimum:\n",
      " Mean qaoa profit: 18.59 , Deviation of qaoa profit 0.054 , Qaoa profit optimality 0.7745833333333333\n"
     ]
    }
   ],
   "source": [
    "# how about 15 node graphs? WARNING THIS TAKES ~10 MIN ON MY PC\n",
    "n15k4_graphs = generateRegularGraphs(15, 4, k4_numPlots)\n",
    "n15k4_optimalData = generateResults(n15k4_graphs, nShots, pSteps, 1, n8k4_params)\n",
    "n15k4_optimalStats = resultDataStats(n15k4_optimalData)\n",
    "print('15 nodes optimum:\\n', 'Mean qaoa profit:', n15k4_optimalStats['mean'], ', Deviation of qaoa profit', \n",
    "      n15k4_optimalStats['st dev'], ', Qaoa profit optimality', n15k4_optimalStats['fraction'])\n",
    "\n",
    "# compare to randomly chosen parameters\n",
    "n15k4_initParams = generateRandomInitialPoint(1)\n",
    "n15k4_randomData = generateResults(n15k4_graphs, nShots, pSteps, 1, n15k4_initParams)\n",
    "n15k4_randomStats = resultDataStats(n15k4_randomData)\n",
    "print('15 nodes random:\\n', 'Mean qaoa profit:', n15k4_randomStats['mean'], ', Deviation of qaoa profit', \n",
    "      n15k4_randomStats['st dev'], ', Qaoa profit optimality', n15k4_randomStats['fraction'])"
   ]
  },
  {
   "cell_type": "markdown",
   "metadata": {},
   "source": [
    "It looks like the parameters for n=8 actually work even better than for n=10 and n=15"
   ]
  }
 ],
 "metadata": {
  "kernelspec": {
   "display_name": "Python 3",
   "language": "python",
   "name": "python3"
  },
  "language_info": {
   "codemirror_mode": {
    "name": "ipython",
    "version": 3
   },
   "file_extension": ".py",
   "mimetype": "text/x-python",
   "name": "python",
   "nbconvert_exporter": "python",
   "pygments_lexer": "ipython3",
   "version": "3.7.3"
  }
 },
 "nbformat": 4,
 "nbformat_minor": 2
}
